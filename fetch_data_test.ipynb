{
 "cells": [
  {
   "cell_type": "code",
   "execution_count": 2,
   "metadata": {},
   "outputs": [],
   "source": [
    "import gspread\n",
    "from google.oauth2.service_account import Credentials\n",
    "import pandas as pd\n",
    "from datetime import date\n",
    "import os\n",
    "from dotenv import load_dotenv\n",
    "\n",
    "\n",
    "scopes = [\n",
    "    \"https://www.googleapis.com/auth/spreadsheets\",\n",
    "    \"https://www.googleapis.com/auth/drive\"\n",
    "]\n",
    "\n",
    "creds = Credentials.from_service_account_file(\"credentials.json\", scopes=scopes)\n",
    "client = gspread.authorize(creds)\n",
    "\n",
    "load_dotenv()\n",
    "spreadheet_key = os.getenv('SPREADSHEET_KEY')\n",
    "sheet = client.open_by_key(spreadheet_key).sheet1"
   ]
  },
  {
   "cell_type": "code",
   "execution_count": 3,
   "metadata": {},
   "outputs": [],
   "source": [
    "\n",
    "data = sheet.get_all_records()\n",
    "df = pd.DataFrame(data)"
   ]
  },
  {
   "cell_type": "code",
   "execution_count": 4,
   "metadata": {},
   "outputs": [
    {
     "data": {
      "text/plain": [
       "False"
      ]
     },
     "execution_count": 4,
     "metadata": {},
     "output_type": "execute_result"
    }
   ],
   "source": [
    "isinstance(df[\"Product\"], str)\n",
    "# df[\"Product\"]\n",
    "# df[\"error_flags\"] = df.apply(funkcja spr, axis=1)"
   ]
  },
  {
   "cell_type": "code",
   "execution_count": 5,
   "metadata": {},
   "outputs": [],
   "source": [
    "s = pd.Series(data)"
   ]
  },
  {
   "cell_type": "code",
   "execution_count": 6,
   "metadata": {},
   "outputs": [],
   "source": [
    "error = []\n",
    "if not isinstance(df.iloc[0][\"OrderID\"], int):\n",
    "    error.append(\"OrderID not int\")\n",
    "else:\n",
    "    print()"
   ]
  },
  {
   "cell_type": "code",
   "execution_count": 7,
   "metadata": {},
   "outputs": [],
   "source": [
    "from datetime import date\n",
    "\n",
    "RULES = {\n",
    "    \"OrderID\": {\n",
    "        \"required\": True,\n",
    "        \"type\": int,\n",
    "        \"min\": 1\n",
    "    },\n",
    "    \"Product\": {\n",
    "        \"required\": True,\n",
    "        \"type\": str,\n",
    "    },\n",
    "    \"Quantity\": {\n",
    "        \"required\": True,\n",
    "        \"type\": int,\n",
    "        \"min\": 1\n",
    "    },\n",
    "    \"Price\": {\n",
    "        \"required\": True,\n",
    "        \"type\": (int, float),\n",
    "        \"min\": 0\n",
    "    },\n",
    "    \"Date\": {\n",
    "        \"required\": True,\n",
    "        \"type\": date\n",
    "    }\n",
    "}"
   ]
  },
  {
   "cell_type": "code",
   "execution_count": 26,
   "metadata": {},
   "outputs": [
    {
     "name": "stdout",
     "output_type": "stream",
     "text": [
      "1 iteracja:\n",
      "1 iteracja:\n",
      "1 iteracja:\n",
      "1 iteracja:\n",
      "1 iteracja:\n",
      "Row 0 errors: ['OrderID: Error cell empty']\n",
      "2 iteracja:\n",
      "2 iteracja:\n",
      "2 iteracja:\n",
      "2 iteracja:\n",
      "2 iteracja:\n",
      "Row 1 errors: []\n",
      "3 iteracja:\n",
      "3 iteracja:\n",
      "3 iteracja:\n",
      "3 iteracja:\n",
      "3 iteracja:\n",
      "Row 2 errors: []\n",
      "4 iteracja:\n",
      "4 iteracja:\n",
      "4 iteracja:\n",
      "4 iteracja:\n",
      "4 iteracja:\n",
      "Row 3 errors: []\n",
      "5 iteracja:\n",
      "5 iteracja:\n",
      "5 iteracja:\n",
      "5 iteracja:\n",
      "5 iteracja:\n",
      "Row 4 errors: []\n",
      "6 iteracja:\n",
      "6 iteracja:\n",
      "6 iteracja:\n",
      "6 iteracja:\n",
      "6 iteracja:\n",
      "Row 5 errors: []\n",
      "7 iteracja:\n",
      "7 iteracja:\n",
      "7 iteracja:\n",
      "7 iteracja:\n",
      "7 iteracja:\n",
      "Row 6 errors: []\n",
      "8 iteracja:\n",
      "8 iteracja:\n",
      "8 iteracja:\n",
      "8 iteracja:\n",
      "8 iteracja:\n",
      "Row 7 errors: []\n",
      "9 iteracja:\n",
      "9 iteracja:\n",
      "9 iteracja:\n",
      "9 iteracja:\n",
      "9 iteracja:\n",
      "Row 8 errors: []\n",
      "10 iteracja:\n",
      "10 iteracja:\n",
      "10 iteracja:\n",
      "10 iteracja:\n",
      "10 iteracja:\n",
      "Row 9 errors: []\n",
      "11 iteracja:\n",
      "11 iteracja:\n",
      "11 iteracja:\n",
      "11 iteracja:\n",
      "11 iteracja:\n",
      "Row 10 errors: []\n",
      "12 iteracja:\n",
      "12 iteracja:\n",
      "12 iteracja:\n",
      "12 iteracja:\n",
      "12 iteracja:\n",
      "Row 11 errors: []\n",
      "13 iteracja:\n",
      "13 iteracja:\n",
      "13 iteracja:\n",
      "13 iteracja:\n",
      "13 iteracja:\n",
      "Row 12 errors: []\n",
      "14 iteracja:\n",
      "14 iteracja:\n",
      "14 iteracja:\n",
      "14 iteracja:\n",
      "14 iteracja:\n",
      "Row 13 errors: []\n",
      "15 iteracja:\n",
      "15 iteracja:\n",
      "15 iteracja:\n",
      "15 iteracja:\n",
      "15 iteracja:\n",
      "Row 14 errors: []\n",
      "16 iteracja:\n",
      "16 iteracja:\n",
      "16 iteracja:\n",
      "16 iteracja:\n",
      "16 iteracja:\n",
      "Row 15 errors: []\n",
      "17 iteracja:\n",
      "17 iteracja:\n",
      "17 iteracja:\n",
      "17 iteracja:\n",
      "17 iteracja:\n",
      "Row 16 errors: []\n",
      "18 iteracja:\n",
      "18 iteracja:\n",
      "18 iteracja:\n",
      "18 iteracja:\n",
      "18 iteracja:\n",
      "Row 17 errors: []\n",
      "19 iteracja:\n",
      "19 iteracja:\n",
      "19 iteracja:\n",
      "19 iteracja:\n",
      "19 iteracja:\n",
      "Row 18 errors: []\n",
      "20 iteracja:\n",
      "20 iteracja:\n",
      "20 iteracja:\n",
      "20 iteracja:\n",
      "20 iteracja:\n",
      "Row 19 errors: []\n",
      "21 iteracja:\n",
      "21 iteracja:\n",
      "21 iteracja:\n",
      "21 iteracja:\n",
      "21 iteracja:\n",
      "Row 20 errors: []\n",
      "22 iteracja:\n",
      "22 iteracja:\n",
      "22 iteracja:\n",
      "22 iteracja:\n",
      "22 iteracja:\n",
      "Row 21 errors: []\n",
      "23 iteracja:\n",
      "23 iteracja:\n",
      "23 iteracja:\n",
      "23 iteracja:\n",
      "23 iteracja:\n",
      "Row 22 errors: []\n",
      "24 iteracja:\n",
      "24 iteracja:\n",
      "24 iteracja:\n",
      "24 iteracja:\n",
      "24 iteracja:\n",
      "Row 23 errors: []\n",
      "25 iteracja:\n",
      "25 iteracja:\n",
      "25 iteracja:\n",
      "25 iteracja:\n",
      "25 iteracja:\n",
      "Row 24 errors: []\n",
      "26 iteracja:\n",
      "26 iteracja:\n",
      "26 iteracja:\n",
      "26 iteracja:\n",
      "26 iteracja:\n",
      "Row 25 errors: []\n",
      "27 iteracja:\n",
      "27 iteracja:\n",
      "27 iteracja:\n",
      "27 iteracja:\n",
      "27 iteracja:\n",
      "Row 26 errors: []\n",
      "28 iteracja:\n",
      "28 iteracja:\n",
      "28 iteracja:\n",
      "28 iteracja:\n",
      "28 iteracja:\n",
      "Row 27 errors: []\n",
      "29 iteracja:\n",
      "29 iteracja:\n",
      "29 iteracja:\n",
      "29 iteracja:\n",
      "29 iteracja:\n",
      "Row 28 errors: []\n",
      "30 iteracja:\n",
      "30 iteracja:\n",
      "30 iteracja:\n",
      "30 iteracja:\n",
      "30 iteracja:\n",
      "Row 29 errors: []\n",
      "31 iteracja:\n",
      "31 iteracja:\n",
      "31 iteracja:\n",
      "31 iteracja:\n",
      "31 iteracja:\n",
      "Row 30 errors: []\n",
      "32 iteracja:\n",
      "32 iteracja:\n",
      "32 iteracja:\n",
      "32 iteracja:\n",
      "32 iteracja:\n",
      "Row 31 errors: []\n",
      "33 iteracja:\n",
      "33 iteracja:\n",
      "33 iteracja:\n",
      "33 iteracja:\n",
      "33 iteracja:\n",
      "Row 32 errors: []\n",
      "34 iteracja:\n",
      "34 iteracja:\n",
      "34 iteracja:\n",
      "34 iteracja:\n",
      "34 iteracja:\n",
      "Row 33 errors: []\n",
      "35 iteracja:\n",
      "35 iteracja:\n",
      "35 iteracja:\n",
      "35 iteracja:\n",
      "35 iteracja:\n",
      "Row 34 errors: []\n",
      "36 iteracja:\n",
      "36 iteracja:\n",
      "36 iteracja:\n",
      "36 iteracja:\n",
      "36 iteracja:\n",
      "Row 35 errors: []\n",
      "37 iteracja:\n",
      "37 iteracja:\n",
      "37 iteracja:\n",
      "37 iteracja:\n",
      "37 iteracja:\n",
      "Row 36 errors: []\n",
      "38 iteracja:\n",
      "38 iteracja:\n",
      "38 iteracja:\n",
      "38 iteracja:\n",
      "38 iteracja:\n",
      "Row 37 errors: []\n",
      "39 iteracja:\n",
      "39 iteracja:\n",
      "39 iteracja:\n",
      "39 iteracja:\n",
      "39 iteracja:\n",
      "Row 38 errors: []\n",
      "40 iteracja:\n",
      "40 iteracja:\n",
      "40 iteracja:\n",
      "40 iteracja:\n",
      "40 iteracja:\n",
      "Row 39 errors: []\n",
      "41 iteracja:\n",
      "41 iteracja:\n",
      "41 iteracja:\n",
      "41 iteracja:\n",
      "41 iteracja:\n",
      "Row 40 errors: []\n",
      "42 iteracja:\n",
      "42 iteracja:\n",
      "42 iteracja:\n",
      "42 iteracja:\n",
      "42 iteracja:\n",
      "Row 41 errors: []\n",
      "43 iteracja:\n",
      "43 iteracja:\n",
      "43 iteracja:\n",
      "43 iteracja:\n",
      "43 iteracja:\n",
      "Row 42 errors: []\n",
      "44 iteracja:\n",
      "44 iteracja:\n",
      "44 iteracja:\n",
      "44 iteracja:\n",
      "44 iteracja:\n",
      "Row 43 errors: []\n",
      "45 iteracja:\n",
      "45 iteracja:\n",
      "45 iteracja:\n",
      "45 iteracja:\n",
      "45 iteracja:\n",
      "Row 44 errors: []\n",
      "46 iteracja:\n",
      "46 iteracja:\n",
      "46 iteracja:\n",
      "46 iteracja:\n",
      "46 iteracja:\n",
      "Row 45 errors: []\n",
      "47 iteracja:\n",
      "47 iteracja:\n",
      "47 iteracja:\n",
      "47 iteracja:\n",
      "47 iteracja:\n",
      "Row 46 errors: []\n",
      "48 iteracja:\n",
      "48 iteracja:\n",
      "48 iteracja:\n",
      "48 iteracja:\n",
      "48 iteracja:\n",
      "Row 47 errors: []\n",
      "49 iteracja:\n",
      "49 iteracja:\n",
      "49 iteracja:\n",
      "49 iteracja:\n",
      "49 iteracja:\n",
      "Row 48 errors: []\n",
      "50 iteracja:\n",
      "50 iteracja:\n",
      "50 iteracja:\n",
      "50 iteracja:\n",
      "50 iteracja:\n",
      "Row 49 errors: []\n"
     ]
    }
   ],
   "source": [
    "\n",
    "for column, rules in RULES.items():\n",
    "    if rules[\"type\"] in [int, float]:\n",
    "        df[column] = pd.to_numeric(df[column], errors=\"coerce\")\n",
    "    elif rules[\"type\"] == \"date\":\n",
    "        df[column] = pd.to_datetime(df[column], errors=\"coerce\")\n",
    "\n",
    "all_errors = []\n",
    "\n",
    "\n",
    "for i, row in df.iterrows():\n",
    "    errors = []\n",
    "    for column, rules in RULES.items():\n",
    "        print(f\"{i+1} iteracja:\")\n",
    "        # print(row[column])\n",
    "        # print(rules[\"required\"])\n",
    "\n",
    "        if rules[\"required\"] and pd.isnull(row[column]):\n",
    "            errors.append(f\"{column}: Error cell empty\")\n",
    "\n",
    "        if rules[\"type\"] in [int, float]:\n",
    "            if not pd.api.types.is_numeric_dtype(type(row[column])):\n",
    "                errors.append(f\"{column}: Error data type\")\n",
    "\n",
    "        if \"min\" in rules and not pd.isnull(row[column]) and row[column] < rules[\"min\"]:\n",
    "            errors.append(f\"{column}: Value error\")\n",
    "\n",
    "    print(f\"Row {i} errors: {errors}\")\n",
    "    all_errors.append(\"; \".join(errors))\n",
    "df[\"error_flags\"] = all_errors\n"
   ]
  },
  {
   "cell_type": "code",
   "execution_count": 17,
   "metadata": {},
   "outputs": [
    {
     "data": {
      "text/html": [
       "<div>\n",
       "<style scoped>\n",
       "    .dataframe tbody tr th:only-of-type {\n",
       "        vertical-align: middle;\n",
       "    }\n",
       "\n",
       "    .dataframe tbody tr th {\n",
       "        vertical-align: top;\n",
       "    }\n",
       "\n",
       "    .dataframe thead th {\n",
       "        text-align: right;\n",
       "    }\n",
       "</style>\n",
       "<table border=\"1\" class=\"dataframe\">\n",
       "  <thead>\n",
       "    <tr style=\"text-align: right;\">\n",
       "      <th></th>\n",
       "      <th>OrderID</th>\n",
       "      <th>CustomerName</th>\n",
       "      <th>Product</th>\n",
       "      <th>Quantity</th>\n",
       "      <th>Price</th>\n",
       "      <th>Date</th>\n",
       "      <th>error_flags</th>\n",
       "      <th>Total</th>\n",
       "    </tr>\n",
       "  </thead>\n",
       "  <tbody>\n",
       "    <tr>\n",
       "      <th>0</th>\n",
       "      <td>NaN</td>\n",
       "      <td>Michał Nowicki</td>\n",
       "      <td>Tablet</td>\n",
       "      <td>1</td>\n",
       "      <td>2000</td>\n",
       "      <td>2025-08-06</td>\n",
       "      <td>OrderID: Error cell empty</td>\n",
       "      <td>2000</td>\n",
       "    </tr>\n",
       "    <tr>\n",
       "      <th>1</th>\n",
       "      <td>1002.0</td>\n",
       "      <td>Katarzyna Krawczyk</td>\n",
       "      <td>Webcam</td>\n",
       "      <td>4</td>\n",
       "      <td>1200</td>\n",
       "      <td>2025-08-23</td>\n",
       "      <td></td>\n",
       "      <td>4800</td>\n",
       "    </tr>\n",
       "    <tr>\n",
       "      <th>2</th>\n",
       "      <td>1003.0</td>\n",
       "      <td>Paweł Maj</td>\n",
       "      <td>Webcam</td>\n",
       "      <td>2</td>\n",
       "      <td>600</td>\n",
       "      <td>2025-08-12</td>\n",
       "      <td></td>\n",
       "      <td>1200</td>\n",
       "    </tr>\n",
       "    <tr>\n",
       "      <th>3</th>\n",
       "      <td>1004.0</td>\n",
       "      <td>Paweł Maj</td>\n",
       "      <td>Headphones</td>\n",
       "      <td>3</td>\n",
       "      <td>1200</td>\n",
       "      <td>2025-08-21</td>\n",
       "      <td></td>\n",
       "      <td>3600</td>\n",
       "    </tr>\n",
       "    <tr>\n",
       "      <th>4</th>\n",
       "      <td>1005.0</td>\n",
       "      <td>Piotr Wiśniewski</td>\n",
       "      <td>Docking Station</td>\n",
       "      <td>3</td>\n",
       "      <td>1800</td>\n",
       "      <td>2025-08-26</td>\n",
       "      <td></td>\n",
       "      <td>5400</td>\n",
       "    </tr>\n",
       "  </tbody>\n",
       "</table>\n",
       "</div>"
      ],
      "text/plain": [
       "   OrderID        CustomerName          Product  Quantity  Price       Date  \\\n",
       "0      NaN      Michał Nowicki           Tablet         1   2000 2025-08-06   \n",
       "1   1002.0  Katarzyna Krawczyk           Webcam         4   1200 2025-08-23   \n",
       "2   1003.0           Paweł Maj           Webcam         2    600 2025-08-12   \n",
       "3   1004.0           Paweł Maj       Headphones         3   1200 2025-08-21   \n",
       "4   1005.0    Piotr Wiśniewski  Docking Station         3   1800 2025-08-26   \n",
       "\n",
       "                 error_flags  Total  \n",
       "0  OrderID: Error cell empty   2000  \n",
       "1                              4800  \n",
       "2                              1200  \n",
       "3                              3600  \n",
       "4                              5400  "
      ]
     },
     "execution_count": 17,
     "metadata": {},
     "output_type": "execute_result"
    }
   ],
   "source": [
    "\n",
    "df.head()"
   ]
  },
  {
   "cell_type": "code",
   "execution_count": 29,
   "metadata": {},
   "outputs": [
    {
     "data": {
      "text/plain": [
       "{'spreadsheetId': '1u17H40MV8MLdAJKaZqu6WbLxb7d8_CU8M6werqpS6WM',\n",
       " 'updatedRange': 'orders!A1:H51',\n",
       " 'updatedRows': 51,\n",
       " 'updatedColumns': 8,\n",
       " 'updatedCells': 408}"
      ]
     },
     "execution_count": 29,
     "metadata": {},
     "output_type": "execute_result"
    }
   ],
   "source": [
    "\n",
    "df[\"Total cost\"] =df[\"Quantity\"] * df[\"Price\"]\n",
    "df = df.fillna(\"\")\n",
    "\n",
    "if pd.api.types.is_datetime64_any_dtype(df[\"Date\"]):\n",
    "    df[\"Date\"] = df[\"Date\"].dt.strftime(\"%Y-%m-%d\")\n",
    "\n",
    "sheet.update([df.columns.values.tolist()] + df.values.tolist())"
   ]
  },
  {
   "cell_type": "code",
   "execution_count": 11,
   "metadata": {},
   "outputs": [
    {
     "data": {
      "text/html": [
       "<div>\n",
       "<style scoped>\n",
       "    .dataframe tbody tr th:only-of-type {\n",
       "        vertical-align: middle;\n",
       "    }\n",
       "\n",
       "    .dataframe tbody tr th {\n",
       "        vertical-align: top;\n",
       "    }\n",
       "\n",
       "    .dataframe thead th {\n",
       "        text-align: right;\n",
       "    }\n",
       "</style>\n",
       "<table border=\"1\" class=\"dataframe\">\n",
       "  <thead>\n",
       "    <tr style=\"text-align: right;\">\n",
       "      <th></th>\n",
       "      <th>OrderID</th>\n",
       "      <th>CustomerName</th>\n",
       "      <th>Product</th>\n",
       "      <th>Quantity</th>\n",
       "      <th>Price</th>\n",
       "      <th>Date</th>\n",
       "      <th>error_flags</th>\n",
       "      <th>Total</th>\n",
       "    </tr>\n",
       "  </thead>\n",
       "  <tbody>\n",
       "    <tr>\n",
       "      <th>0</th>\n",
       "      <td>NaN</td>\n",
       "      <td>Michał Nowicki</td>\n",
       "      <td>Tablet</td>\n",
       "      <td>1</td>\n",
       "      <td>2000</td>\n",
       "      <td>2025-08-06</td>\n",
       "      <td>OrderID: Error cell empty</td>\n",
       "      <td>2000</td>\n",
       "    </tr>\n",
       "    <tr>\n",
       "      <th>1</th>\n",
       "      <td>1002.0</td>\n",
       "      <td>Katarzyna Krawczyk</td>\n",
       "      <td>Webcam</td>\n",
       "      <td>4</td>\n",
       "      <td>1200</td>\n",
       "      <td>2025-08-23</td>\n",
       "      <td></td>\n",
       "      <td>4800</td>\n",
       "    </tr>\n",
       "    <tr>\n",
       "      <th>2</th>\n",
       "      <td>1003.0</td>\n",
       "      <td>Paweł Maj</td>\n",
       "      <td>Webcam</td>\n",
       "      <td>2</td>\n",
       "      <td>600</td>\n",
       "      <td>2025-08-12</td>\n",
       "      <td></td>\n",
       "      <td>1200</td>\n",
       "    </tr>\n",
       "    <tr>\n",
       "      <th>3</th>\n",
       "      <td>1004.0</td>\n",
       "      <td>Paweł Maj</td>\n",
       "      <td>Headphones</td>\n",
       "      <td>3</td>\n",
       "      <td>1200</td>\n",
       "      <td>2025-08-21</td>\n",
       "      <td></td>\n",
       "      <td>3600</td>\n",
       "    </tr>\n",
       "    <tr>\n",
       "      <th>4</th>\n",
       "      <td>1005.0</td>\n",
       "      <td>Piotr Wiśniewski</td>\n",
       "      <td>Docking Station</td>\n",
       "      <td>3</td>\n",
       "      <td>1800</td>\n",
       "      <td>2025-08-26</td>\n",
       "      <td></td>\n",
       "      <td>5400</td>\n",
       "    </tr>\n",
       "  </tbody>\n",
       "</table>\n",
       "</div>"
      ],
      "text/plain": [
       "   OrderID        CustomerName          Product  Quantity  Price        Date  \\\n",
       "0      NaN      Michał Nowicki           Tablet         1   2000  2025-08-06   \n",
       "1   1002.0  Katarzyna Krawczyk           Webcam         4   1200  2025-08-23   \n",
       "2   1003.0           Paweł Maj           Webcam         2    600  2025-08-12   \n",
       "3   1004.0           Paweł Maj       Headphones         3   1200  2025-08-21   \n",
       "4   1005.0    Piotr Wiśniewski  Docking Station         3   1800  2025-08-26   \n",
       "\n",
       "                 error_flags  Total  \n",
       "0  OrderID: Error cell empty   2000  \n",
       "1                              4800  \n",
       "2                              1200  \n",
       "3                              3600  \n",
       "4                              5400  "
      ]
     },
     "execution_count": 11,
     "metadata": {},
     "output_type": "execute_result"
    }
   ],
   "source": [
    "df.head()"
   ]
  },
  {
   "cell_type": "code",
   "execution_count": 12,
   "metadata": {},
   "outputs": [
    {
     "name": "stdout",
     "output_type": "stream",
     "text": [
      "Date\n",
      "2025-08-01    70900\n",
      "2025-08-02    15200\n",
      "2025-08-03     2600\n",
      "2025-08-06     4000\n",
      "2025-08-09    50000\n",
      "2025-08-10    15000\n",
      "2025-08-11     4200\n",
      "2025-08-12     2280\n",
      "2025-08-13     8000\n",
      "2025-08-14    11100\n",
      "2025-08-15     1000\n",
      "2025-08-16    51080\n",
      "2025-08-19    15080\n",
      "2025-08-20     1080\n",
      "2025-08-21    30000\n",
      "2025-08-22     3600\n",
      "2025-08-23    14400\n",
      "2025-08-24    71120\n",
      "2025-08-25    50000\n",
      "2025-08-26    69800\n",
      "2025-08-27    11600\n",
      "2025-08-28     1200\n",
      "2025-08-29    20160\n",
      "Name: Total, dtype: int64\n"
     ]
    }
   ],
   "source": [
    "# Sprzedaz dzienna\n",
    "\n",
    "daily_sales = df.groupby(\"Date\")[\"Total\"].sum()\n",
    "print(daily_sales)"
   ]
  },
  {
   "cell_type": "code",
   "execution_count": 68,
   "metadata": {},
   "outputs": [],
   "source": [
    "from datetime import datetime, timedelta\n",
    "\n",
    "def sales_analysis(time_period=None, start_date=None, end_date=None):\n",
    "    if time_period is not None and (start_date is not None or end_date is not None):\n",
    "        raise ValueError(\"Podaj albo time_period, albo start_date i end_date, nie oba naraz\")\n",
    "    df[\"Date\"] = pd.to_datetime(df[\"Date\"])\n",
    "\n",
    "    if time_period:\n",
    "        # time_period = 30\n",
    "        start_date = datetime.now() - timedelta(time_period)\n",
    "        sales = df[df[\"Date\"] >= start_date].groupby(\"Date\")[\"Total\"].sum()\n",
    "        return sales\n",
    "    elif start_date and end_date:\n",
    "        sales = df[(df[\"Date\"] >= start_date) & (df[\"Date\"] <= end_date)].groupby(\"Date\")[\"Total\"].sum()\n",
    "        return sales\n",
    "\n",
    "# sales=sales_analysis(time_period=30)\n",
    "sales=sales_analysis(start_date=\"2025-08-06\", end_date=\"2025-08-15\")\n",
    "\n",
    "# print(sales)\n",
    "# print(sales2)"
   ]
  },
  {
   "cell_type": "code",
   "execution_count": null,
   "metadata": {},
   "outputs": [],
   "source": [
    "import matplotlib.pyplot as plt\n",
    "\n",
    "sales.plot(kind=\"line\")  # plt.plot(weekly_sales.index, weekly_sales.values)\n",
    "plt.title(f\"Sales Trend - Last {time_period} Days\")\n",
    "plt.xlabel(\"Date\")\n",
    "plt.ylabel(\"Total Sales\")\n",
    "plt.show()\n"
   ]
  },
  {
   "cell_type": "code",
   "execution_count": null,
   "metadata": {},
   "outputs": [],
   "source": [
    "import seaborn as sns\n",
    "\n",
    "sns.lineplot(x=sales.index, y=sales.values)\n",
    "\n",
    "plt.title(f\"Sales Trend - Last {time_period} Days\")\n",
    "plt.xlabel(\"Date\")\n",
    "plt.ylabel(\"Total Sales\")\n",
    "plt.show()\n"
   ]
  },
  {
   "cell_type": "code",
   "execution_count": 69,
   "metadata": {},
   "outputs": [
    {
     "data": {
      "application/vnd.plotly.v1+json": {
       "config": {
        "plotlyServerURL": "https://plot.ly"
       },
       "data": [
        {
         "hovertemplate": "Date=%{x}<br>Total=%{y}<extra></extra>",
         "legendgroup": "",
         "line": {
          "color": "#636efa",
          "dash": "solid"
         },
         "marker": {
          "symbol": "circle"
         },
         "mode": "lines",
         "name": "",
         "orientation": "v",
         "showlegend": false,
         "type": "scatter",
         "x": [
          "2025-08-06T00:00:00.000000000",
          "2025-08-09T00:00:00.000000000",
          "2025-08-10T00:00:00.000000000",
          "2025-08-11T00:00:00.000000000",
          "2025-08-12T00:00:00.000000000",
          "2025-08-13T00:00:00.000000000",
          "2025-08-14T00:00:00.000000000",
          "2025-08-15T00:00:00.000000000"
         ],
         "xaxis": "x",
         "y": {
          "bdata": "oA8AAFDDAACYOgAAaBAAAOgIAABAHwAAXCsAAOgDAAA=",
          "dtype": "i4"
         },
         "yaxis": "y"
        }
       ],
       "layout": {
        "legend": {
         "tracegroupgap": 0
        },
        "template": {
         "data": {
          "bar": [
           {
            "error_x": {
             "color": "#2a3f5f"
            },
            "error_y": {
             "color": "#2a3f5f"
            },
            "marker": {
             "line": {
              "color": "#E5ECF6",
              "width": 0.5
             },
             "pattern": {
              "fillmode": "overlay",
              "size": 10,
              "solidity": 0.2
             }
            },
            "type": "bar"
           }
          ],
          "barpolar": [
           {
            "marker": {
             "line": {
              "color": "#E5ECF6",
              "width": 0.5
             },
             "pattern": {
              "fillmode": "overlay",
              "size": 10,
              "solidity": 0.2
             }
            },
            "type": "barpolar"
           }
          ],
          "carpet": [
           {
            "aaxis": {
             "endlinecolor": "#2a3f5f",
             "gridcolor": "white",
             "linecolor": "white",
             "minorgridcolor": "white",
             "startlinecolor": "#2a3f5f"
            },
            "baxis": {
             "endlinecolor": "#2a3f5f",
             "gridcolor": "white",
             "linecolor": "white",
             "minorgridcolor": "white",
             "startlinecolor": "#2a3f5f"
            },
            "type": "carpet"
           }
          ],
          "choropleth": [
           {
            "colorbar": {
             "outlinewidth": 0,
             "ticks": ""
            },
            "type": "choropleth"
           }
          ],
          "contour": [
           {
            "colorbar": {
             "outlinewidth": 0,
             "ticks": ""
            },
            "colorscale": [
             [
              0,
              "#0d0887"
             ],
             [
              0.1111111111111111,
              "#46039f"
             ],
             [
              0.2222222222222222,
              "#7201a8"
             ],
             [
              0.3333333333333333,
              "#9c179e"
             ],
             [
              0.4444444444444444,
              "#bd3786"
             ],
             [
              0.5555555555555556,
              "#d8576b"
             ],
             [
              0.6666666666666666,
              "#ed7953"
             ],
             [
              0.7777777777777778,
              "#fb9f3a"
             ],
             [
              0.8888888888888888,
              "#fdca26"
             ],
             [
              1,
              "#f0f921"
             ]
            ],
            "type": "contour"
           }
          ],
          "contourcarpet": [
           {
            "colorbar": {
             "outlinewidth": 0,
             "ticks": ""
            },
            "type": "contourcarpet"
           }
          ],
          "heatmap": [
           {
            "colorbar": {
             "outlinewidth": 0,
             "ticks": ""
            },
            "colorscale": [
             [
              0,
              "#0d0887"
             ],
             [
              0.1111111111111111,
              "#46039f"
             ],
             [
              0.2222222222222222,
              "#7201a8"
             ],
             [
              0.3333333333333333,
              "#9c179e"
             ],
             [
              0.4444444444444444,
              "#bd3786"
             ],
             [
              0.5555555555555556,
              "#d8576b"
             ],
             [
              0.6666666666666666,
              "#ed7953"
             ],
             [
              0.7777777777777778,
              "#fb9f3a"
             ],
             [
              0.8888888888888888,
              "#fdca26"
             ],
             [
              1,
              "#f0f921"
             ]
            ],
            "type": "heatmap"
           }
          ],
          "histogram": [
           {
            "marker": {
             "pattern": {
              "fillmode": "overlay",
              "size": 10,
              "solidity": 0.2
             }
            },
            "type": "histogram"
           }
          ],
          "histogram2d": [
           {
            "colorbar": {
             "outlinewidth": 0,
             "ticks": ""
            },
            "colorscale": [
             [
              0,
              "#0d0887"
             ],
             [
              0.1111111111111111,
              "#46039f"
             ],
             [
              0.2222222222222222,
              "#7201a8"
             ],
             [
              0.3333333333333333,
              "#9c179e"
             ],
             [
              0.4444444444444444,
              "#bd3786"
             ],
             [
              0.5555555555555556,
              "#d8576b"
             ],
             [
              0.6666666666666666,
              "#ed7953"
             ],
             [
              0.7777777777777778,
              "#fb9f3a"
             ],
             [
              0.8888888888888888,
              "#fdca26"
             ],
             [
              1,
              "#f0f921"
             ]
            ],
            "type": "histogram2d"
           }
          ],
          "histogram2dcontour": [
           {
            "colorbar": {
             "outlinewidth": 0,
             "ticks": ""
            },
            "colorscale": [
             [
              0,
              "#0d0887"
             ],
             [
              0.1111111111111111,
              "#46039f"
             ],
             [
              0.2222222222222222,
              "#7201a8"
             ],
             [
              0.3333333333333333,
              "#9c179e"
             ],
             [
              0.4444444444444444,
              "#bd3786"
             ],
             [
              0.5555555555555556,
              "#d8576b"
             ],
             [
              0.6666666666666666,
              "#ed7953"
             ],
             [
              0.7777777777777778,
              "#fb9f3a"
             ],
             [
              0.8888888888888888,
              "#fdca26"
             ],
             [
              1,
              "#f0f921"
             ]
            ],
            "type": "histogram2dcontour"
           }
          ],
          "mesh3d": [
           {
            "colorbar": {
             "outlinewidth": 0,
             "ticks": ""
            },
            "type": "mesh3d"
           }
          ],
          "parcoords": [
           {
            "line": {
             "colorbar": {
              "outlinewidth": 0,
              "ticks": ""
             }
            },
            "type": "parcoords"
           }
          ],
          "pie": [
           {
            "automargin": true,
            "type": "pie"
           }
          ],
          "scatter": [
           {
            "fillpattern": {
             "fillmode": "overlay",
             "size": 10,
             "solidity": 0.2
            },
            "type": "scatter"
           }
          ],
          "scatter3d": [
           {
            "line": {
             "colorbar": {
              "outlinewidth": 0,
              "ticks": ""
             }
            },
            "marker": {
             "colorbar": {
              "outlinewidth": 0,
              "ticks": ""
             }
            },
            "type": "scatter3d"
           }
          ],
          "scattercarpet": [
           {
            "marker": {
             "colorbar": {
              "outlinewidth": 0,
              "ticks": ""
             }
            },
            "type": "scattercarpet"
           }
          ],
          "scattergeo": [
           {
            "marker": {
             "colorbar": {
              "outlinewidth": 0,
              "ticks": ""
             }
            },
            "type": "scattergeo"
           }
          ],
          "scattergl": [
           {
            "marker": {
             "colorbar": {
              "outlinewidth": 0,
              "ticks": ""
             }
            },
            "type": "scattergl"
           }
          ],
          "scattermap": [
           {
            "marker": {
             "colorbar": {
              "outlinewidth": 0,
              "ticks": ""
             }
            },
            "type": "scattermap"
           }
          ],
          "scattermapbox": [
           {
            "marker": {
             "colorbar": {
              "outlinewidth": 0,
              "ticks": ""
             }
            },
            "type": "scattermapbox"
           }
          ],
          "scatterpolar": [
           {
            "marker": {
             "colorbar": {
              "outlinewidth": 0,
              "ticks": ""
             }
            },
            "type": "scatterpolar"
           }
          ],
          "scatterpolargl": [
           {
            "marker": {
             "colorbar": {
              "outlinewidth": 0,
              "ticks": ""
             }
            },
            "type": "scatterpolargl"
           }
          ],
          "scatterternary": [
           {
            "marker": {
             "colorbar": {
              "outlinewidth": 0,
              "ticks": ""
             }
            },
            "type": "scatterternary"
           }
          ],
          "surface": [
           {
            "colorbar": {
             "outlinewidth": 0,
             "ticks": ""
            },
            "colorscale": [
             [
              0,
              "#0d0887"
             ],
             [
              0.1111111111111111,
              "#46039f"
             ],
             [
              0.2222222222222222,
              "#7201a8"
             ],
             [
              0.3333333333333333,
              "#9c179e"
             ],
             [
              0.4444444444444444,
              "#bd3786"
             ],
             [
              0.5555555555555556,
              "#d8576b"
             ],
             [
              0.6666666666666666,
              "#ed7953"
             ],
             [
              0.7777777777777778,
              "#fb9f3a"
             ],
             [
              0.8888888888888888,
              "#fdca26"
             ],
             [
              1,
              "#f0f921"
             ]
            ],
            "type": "surface"
           }
          ],
          "table": [
           {
            "cells": {
             "fill": {
              "color": "#EBF0F8"
             },
             "line": {
              "color": "white"
             }
            },
            "header": {
             "fill": {
              "color": "#C8D4E3"
             },
             "line": {
              "color": "white"
             }
            },
            "type": "table"
           }
          ]
         },
         "layout": {
          "annotationdefaults": {
           "arrowcolor": "#2a3f5f",
           "arrowhead": 0,
           "arrowwidth": 1
          },
          "autotypenumbers": "strict",
          "coloraxis": {
           "colorbar": {
            "outlinewidth": 0,
            "ticks": ""
           }
          },
          "colorscale": {
           "diverging": [
            [
             0,
             "#8e0152"
            ],
            [
             0.1,
             "#c51b7d"
            ],
            [
             0.2,
             "#de77ae"
            ],
            [
             0.3,
             "#f1b6da"
            ],
            [
             0.4,
             "#fde0ef"
            ],
            [
             0.5,
             "#f7f7f7"
            ],
            [
             0.6,
             "#e6f5d0"
            ],
            [
             0.7,
             "#b8e186"
            ],
            [
             0.8,
             "#7fbc41"
            ],
            [
             0.9,
             "#4d9221"
            ],
            [
             1,
             "#276419"
            ]
           ],
           "sequential": [
            [
             0,
             "#0d0887"
            ],
            [
             0.1111111111111111,
             "#46039f"
            ],
            [
             0.2222222222222222,
             "#7201a8"
            ],
            [
             0.3333333333333333,
             "#9c179e"
            ],
            [
             0.4444444444444444,
             "#bd3786"
            ],
            [
             0.5555555555555556,
             "#d8576b"
            ],
            [
             0.6666666666666666,
             "#ed7953"
            ],
            [
             0.7777777777777778,
             "#fb9f3a"
            ],
            [
             0.8888888888888888,
             "#fdca26"
            ],
            [
             1,
             "#f0f921"
            ]
           ],
           "sequentialminus": [
            [
             0,
             "#0d0887"
            ],
            [
             0.1111111111111111,
             "#46039f"
            ],
            [
             0.2222222222222222,
             "#7201a8"
            ],
            [
             0.3333333333333333,
             "#9c179e"
            ],
            [
             0.4444444444444444,
             "#bd3786"
            ],
            [
             0.5555555555555556,
             "#d8576b"
            ],
            [
             0.6666666666666666,
             "#ed7953"
            ],
            [
             0.7777777777777778,
             "#fb9f3a"
            ],
            [
             0.8888888888888888,
             "#fdca26"
            ],
            [
             1,
             "#f0f921"
            ]
           ]
          },
          "colorway": [
           "#636efa",
           "#EF553B",
           "#00cc96",
           "#ab63fa",
           "#FFA15A",
           "#19d3f3",
           "#FF6692",
           "#B6E880",
           "#FF97FF",
           "#FECB52"
          ],
          "font": {
           "color": "#2a3f5f"
          },
          "geo": {
           "bgcolor": "white",
           "lakecolor": "white",
           "landcolor": "#E5ECF6",
           "showlakes": true,
           "showland": true,
           "subunitcolor": "white"
          },
          "hoverlabel": {
           "align": "left"
          },
          "hovermode": "closest",
          "mapbox": {
           "style": "light"
          },
          "paper_bgcolor": "white",
          "plot_bgcolor": "#E5ECF6",
          "polar": {
           "angularaxis": {
            "gridcolor": "white",
            "linecolor": "white",
            "ticks": ""
           },
           "bgcolor": "#E5ECF6",
           "radialaxis": {
            "gridcolor": "white",
            "linecolor": "white",
            "ticks": ""
           }
          },
          "scene": {
           "xaxis": {
            "backgroundcolor": "#E5ECF6",
            "gridcolor": "white",
            "gridwidth": 2,
            "linecolor": "white",
            "showbackground": true,
            "ticks": "",
            "zerolinecolor": "white"
           },
           "yaxis": {
            "backgroundcolor": "#E5ECF6",
            "gridcolor": "white",
            "gridwidth": 2,
            "linecolor": "white",
            "showbackground": true,
            "ticks": "",
            "zerolinecolor": "white"
           },
           "zaxis": {
            "backgroundcolor": "#E5ECF6",
            "gridcolor": "white",
            "gridwidth": 2,
            "linecolor": "white",
            "showbackground": true,
            "ticks": "",
            "zerolinecolor": "white"
           }
          },
          "shapedefaults": {
           "line": {
            "color": "#2a3f5f"
           }
          },
          "ternary": {
           "aaxis": {
            "gridcolor": "white",
            "linecolor": "white",
            "ticks": ""
           },
           "baxis": {
            "gridcolor": "white",
            "linecolor": "white",
            "ticks": ""
           },
           "bgcolor": "#E5ECF6",
           "caxis": {
            "gridcolor": "white",
            "linecolor": "white",
            "ticks": ""
           }
          },
          "title": {
           "x": 0.05
          },
          "xaxis": {
           "automargin": true,
           "gridcolor": "white",
           "linecolor": "white",
           "ticks": "",
           "title": {
            "standoff": 15
           },
           "zerolinecolor": "white",
           "zerolinewidth": 2
          },
          "yaxis": {
           "automargin": true,
           "gridcolor": "white",
           "linecolor": "white",
           "ticks": "",
           "title": {
            "standoff": 15
           },
           "zerolinecolor": "white",
           "zerolinewidth": 2
          }
         }
        },
        "title": {
         "text": "Sales Trend - Last 30 Days"
        },
        "xaxis": {
         "anchor": "y",
         "domain": [
          0,
          1
         ],
         "title": {
          "text": "Date"
         }
        },
        "yaxis": {
         "anchor": "x",
         "domain": [
          0,
          1
         ],
         "title": {
          "text": "Total"
         }
        }
       }
      }
     },
     "metadata": {},
     "output_type": "display_data"
    }
   ],
   "source": [
    "import plotly.express as px\n",
    "\n",
    "fig = px.line(sales, x=sales.index, y=\"Total\", title=f\"Sales Trend - Last {time_period} Days\")\n",
    "fig.show()\n"
   ]
  },
  {
   "cell_type": "code",
   "execution_count": 79,
   "metadata": {},
   "outputs": [
    {
     "name": "stdout",
     "output_type": "stream",
     "text": [
      "                 total_quantity  num_orders  total_revenue\n",
      "Product                                                   \n",
      "Docking Station              29           9          66600\n",
      "Mouse                        27           9          11400\n",
      "Webcam                       24           8          24600\n",
      "Tablet                       21           7         170000\n",
      "Laptop                       17           6         199500\n",
      "Monitor                      15           6          40500\n",
      "Headphones                    8           3           8800\n",
      "Keyboard                      4           2           2000\n"
     ]
    }
   ],
   "source": [
    "def products_performance(time_period=None, start_date=None, end_date=None):\n",
    "    if time_period and (start_date or end_date):\n",
    "        raise ValueError(\"Podaj albo time_period, albo start_date i end_date, nie oba naraz\")\n",
    "\n",
    "    if time_period:\n",
    "        # time_period = 30\n",
    "        start_date = datetime.now() - timedelta(time_period)\n",
    "        products_within_dates = df[df[\"Date\"] >= start_date]\n",
    "    elif start_date and end_date:\n",
    "        start_date = pd.to_datetime(start_date)\n",
    "        end_date = pd.to_datetime(end_date)\n",
    "        products_within_dates = df[(df[\"Date\"] >= start_date) & (df[\"Date\"] <= end_date)]\n",
    "    else:\n",
    "        products_within_dates = df\n",
    "\n",
    "    top_products = products_within_dates.groupby(\"Product\").agg(\n",
    "        total_quantity=(\"Quantity\", \"sum\"),\n",
    "        num_orders=(\"OrderID\", \"count\"),\n",
    "        total_revenue=(\"Total\", \"sum\")\n",
    "    )\n",
    "    top_products = top_products.sort_values(by=\"total_quantity\", ascending=False)\n",
    "    return top_products\n",
    "\n",
    "# products_performance = products_performance(start_date=\"2025-08-06\", end_date=\"2025-08-15\")\n",
    "products_performance = products_performance()\n",
    "print(products_performance)"
   ]
  },
  {
   "cell_type": "code",
   "execution_count": 83,
   "metadata": {},
   "outputs": [
    {
     "name": "stdout",
     "output_type": "stream",
     "text": [
      "                    num_orders  orders_cost  days_since_last_order\n",
      "CustomerName                                                      \n",
      "Anna Kowalska                8        77200                      7\n",
      "Michał Nowicki               8       154120                      5\n",
      "Katarzyna Krawczyk           7        94000                     10\n",
      "Paweł Maj                    7        12260                     13\n",
      "Maria Wiśniewska             5        12280                      5\n",
      "Tomasz Lis                   5        73060                      5\n",
      "Ewa Zielińska                4        22880                      5\n",
      "Piotr Wiśniewski             3        22800                      8\n",
      "Joanna Dąbrowska             2        51200                      6\n",
      "Jan Nowak                    1         3600                     32\n"
     ]
    }
   ],
   "source": [
    "\n",
    "top_customers = df.groupby(\"CustomerName\").agg(\n",
    "    num_orders = (\"OrderID\", \"count\"),\n",
    "    orders_cost = (\"Total\", \"sum\"),\n",
    "    last_order = (\"Date\", \"max\")\n",
    ")\n",
    "\n",
    "top_customers[\"days_since_last_order\"] = (datetime.now() - pd.to_datetime(top_customers[\"last_order\"])).dt.days\n",
    "top_customers = top_customers.drop(columns=\"last_order\").sort_values(by=\"num_orders\", ascending=False)\n",
    "\n",
    "print(top_customers)"
   ]
  },
  {
   "cell_type": "code",
   "execution_count": null,
   "metadata": {},
   "outputs": [],
   "source": []
  }
 ],
 "metadata": {
  "kernelspec": {
   "display_name": ".venv",
   "language": "python",
   "name": "python3"
  },
  "language_info": {
   "codemirror_mode": {
    "name": "ipython",
    "version": 3
   },
   "file_extension": ".py",
   "mimetype": "text/x-python",
   "name": "python",
   "nbconvert_exporter": "python",
   "pygments_lexer": "ipython3",
   "version": "3.13.4"
  }
 },
 "nbformat": 4,
 "nbformat_minor": 2
}
